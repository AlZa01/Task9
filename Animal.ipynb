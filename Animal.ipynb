{
 "cells": [
  {
   "cell_type": "code",
   "execution_count": 1,
   "id": "569ad3ff-86a5-451f-af1d-b51caebbfc10",
   "metadata": {},
   "outputs": [],
   "source": [
    "#1 Creating the animal class\n",
    "class Animal:\n",
    "    def __init__(self, genus, name, year_of_birth, habitat, diet, weight):\n",
    "        self.genus = genus\n",
    "        self.name = name\n",
    "        self.year_of_birth = year_of_birth\n",
    "        self.habitat = habitat\n",
    "        self.diet = diet\n",
    "        self.weight = weight\n",
    "        \n",
    "    def get_age(self, year):\n",
    "        return (self.name+\" is \"+str(year - self.year_of_birth)+\" years old.\")\n",
    "    \n",
    "    def get_info(self):\n",
    "        return (self.name+\" belongs to the \"+self.genus+\" genus.\")\n",
    "    \n",
    "    def get_weight_and_home(self):\n",
    "        return (self.name+\" is \"+str(self.weight)+\"kg and lives in \"+self.habitat+\".\")\n",
    "    \n",
    "    def get_dinner(self):\n",
    "        if self.diet == \"Carnivore\":\n",
    "            return self.name + \" is a \"+self.diet+\", so it will eat meat for dinner.\"\n",
    "        elif self.diet == \"Herbivore\":\n",
    "            return self.name + \" is a \"+self.diet+\", so it will eat plants for dinner.\"\n",
    "        elif self.diet == \"Omnivore\":\n",
    "            return self.name + \" is a \"+self.diet+\", so it will eat both plants and meat for dinner.\"\n",
    "        else:\n",
    "            return self.name + \"'s diet is unknown. We need to call the specialists.\"\n",
    "        \n",
    "# Functions for the third point of the task (a method that finds the oldest animal in a list of animals)\n",
    "    def just_age(self, year):\n",
    "        return (year - self.year_of_birth)\n",
    "    def find_oldest_animal(animals, year):\n",
    "        oldest_animal = animals[0]  # starting from the first animal\n",
    "        for animal in animals[1:]:  # going through all other animals\n",
    "            if animal.just_age(year) > oldest_animal.just_age(year):\n",
    "                oldest_animal = animal  # updating the oldest animal\n",
    "        return oldest_animal "
   ]
  },
  {
   "cell_type": "code",
   "execution_count": 2,
   "id": "d1518d27-fe88-444f-a239-2c54875046bb",
   "metadata": {
    "tags": []
   },
   "outputs": [],
   "source": [
    "#2 Creating a list of animals and running methods\n",
    "animals = [\n",
    "    Animal(\"Panthera\", \"Leo\", 2015, \"Savanna\", \"Carnivore\", 190),  # This refers to the species \"Lion\" (Panthera leo) from the genus Panthera\n",
    "    Animal(\"Elephas\", \"Maximus\", 2010, \"Forest\", \"Herbivore\", 5400),  # Asian elephant\n",
    "    Animal(\"Gorilla\", \"Beringei\", 2017, \"Tropical rainforest\", \"Herbivore\", 160),  # Mountain gorilla\n",
    "    Animal(\"Ailuropoda\", \"Melanoleuca\", 2016, \"Bamboo forest\", \"Herbivore\", 100),  # Giant panda\n",
    "    Animal(\"Delphinus\", \"Delphis\", 2014, \"Ocean\", \"Carnivore\", 150),  # Common dolphin\n",
    "    Animal(\"Canis\", \"Lupus\", 2018, \"Tundra\", \"Carnivore\", 50),  # Arctic wolf\n",
    "]"
   ]
  },
  {
   "cell_type": "code",
   "execution_count": 3,
   "id": "38578348-f381-4b88-bc1a-4685b3567013",
   "metadata": {
    "tags": []
   },
   "outputs": [
    {
     "name": "stdout",
     "output_type": "stream",
     "text": [
      "Leo is 9 years old.\n",
      "Maximus is 14 years old.\n",
      "Beringei is 7 years old.\n",
      "Melanoleuca is 8 years old.\n",
      "Delphis is 10 years old.\n",
      "Lupus is 6 years old.\n"
     ]
    }
   ],
   "source": [
    "for animal in animals:\n",
    "    print(animal.get_age(2024))"
   ]
  },
  {
   "cell_type": "code",
   "execution_count": 4,
   "id": "4946c7bd-dc88-4eb2-8be2-f9570d661ec0",
   "metadata": {
    "tags": []
   },
   "outputs": [
    {
     "name": "stdout",
     "output_type": "stream",
     "text": [
      "Leo belongs to the Panthera genus.\n",
      "Maximus belongs to the Elephas genus.\n",
      "Beringei belongs to the Gorilla genus.\n",
      "Melanoleuca belongs to the Ailuropoda genus.\n",
      "Delphis belongs to the Delphinus genus.\n",
      "Lupus belongs to the Canis genus.\n"
     ]
    }
   ],
   "source": [
    "for animal in animals:\n",
    "    print(animal.get_info())"
   ]
  },
  {
   "cell_type": "code",
   "execution_count": 5,
   "id": "54467006-8174-4975-8550-3bb826727cd3",
   "metadata": {
    "tags": []
   },
   "outputs": [
    {
     "name": "stdout",
     "output_type": "stream",
     "text": [
      "Leo is 190kg and lives in Savanna.\n",
      "Maximus is 5400kg and lives in Forest.\n",
      "Beringei is 160kg and lives in Tropical rainforest.\n",
      "Melanoleuca is 100kg and lives in Bamboo forest.\n",
      "Delphis is 150kg and lives in Ocean.\n",
      "Lupus is 50kg and lives in Tundra.\n"
     ]
    }
   ],
   "source": [
    "for animal in animals:\n",
    "    print(animal.get_weight_and_home())"
   ]
  },
  {
   "cell_type": "code",
   "execution_count": 6,
   "id": "655a196a-fd8c-4ac4-aee6-d6750c260a7f",
   "metadata": {
    "tags": []
   },
   "outputs": [
    {
     "name": "stdout",
     "output_type": "stream",
     "text": [
      "Leo is a Carnivore, so it will eat meat for dinner.\n",
      "Maximus is a Herbivore, so it will eat plants for dinner.\n",
      "Beringei is a Herbivore, so it will eat plants for dinner.\n",
      "Melanoleuca is a Herbivore, so it will eat plants for dinner.\n",
      "Delphis is a Carnivore, so it will eat meat for dinner.\n",
      "Lupus is a Carnivore, so it will eat meat for dinner.\n"
     ]
    }
   ],
   "source": [
    "for animal in animals:\n",
    "    print(animal.get_dinner())"
   ]
  },
  {
   "cell_type": "code",
   "execution_count": 7,
   "id": "d2e0f9d3-783d-4371-b9ca-ddba0401f3cb",
   "metadata": {
    "tags": []
   },
   "outputs": [
    {
     "name": "stdout",
     "output_type": "stream",
     "text": [
      "The oldest animal is Maximus of the genus Elephas, aged 14  years.\n"
     ]
    }
   ],
   "source": [
    "#3 Creating a method that finds the oldest animal in a list of animals\n",
    "year = 2024\n",
    "oldest_animal = Animal.find_oldest_animal(animals, year)\n",
    "print(\"The oldest animal is \"+oldest_animal.name+\" of the genus \"+oldest_animal.genus+\", aged \"+str(oldest_animal.just_age(year))+\"  years.\")"
   ]
  },
  {
   "cell_type": "code",
   "execution_count": 8,
   "id": "a0eae152-c731-4ec4-92a6-e6a8b2c378ba",
   "metadata": {
    "tags": []
   },
   "outputs": [
    {
     "name": "stdout",
     "output_type": "stream",
     "text": [
      "Animal names and genus have been written to 'animals.txt'\n"
     ]
    }
   ],
   "source": [
    "#4 Creating a code that writes name and genus of animals to a text file\n",
    "file = \"animals.txt\"\n",
    "with open(file, \"w\") as file:\n",
    "    for animal in animals:\n",
    "        file.write(\"Name: \"+animal.name+\", Genus: \"+animal.genus+\"\\n\")\n",
    "print(\"Animal names and genus have been written to 'animals.txt'\")"
   ]
  }
 ],
 "metadata": {
  "kernelspec": {
   "display_name": "Python 3 (ipykernel)",
   "language": "python",
   "name": "python3"
  },
  "language_info": {
   "codemirror_mode": {
    "name": "ipython",
    "version": 3
   },
   "file_extension": ".py",
   "mimetype": "text/x-python",
   "name": "python",
   "nbconvert_exporter": "python",
   "pygments_lexer": "ipython3",
   "version": "3.10.9"
  }
 },
 "nbformat": 4,
 "nbformat_minor": 5
}
